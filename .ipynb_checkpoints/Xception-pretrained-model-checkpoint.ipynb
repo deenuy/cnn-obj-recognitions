{
 "cells": [
  {
   "cell_type": "code",
   "execution_count": 1,
   "id": "600a18ff-a116-424a-ba92-4ee0f57c77b3",
   "metadata": {},
   "outputs": [
    {
     "name": "stdout",
     "output_type": "stream",
     "text": [
      "9.1.1\n"
     ]
    }
   ],
   "source": [
    "# !pip install opencv-python --upgrade\n",
    "# !pip install -r requirements.txt\n",
    "import pytesseract\n",
    "import cv2 #opencv-python\n",
    "from PIL import Image #pillow\n",
    "import warnings\n",
    "warnings.filterwarnings('ignore')\n",
    "print(Image.__version__)"
   ]
  },
  {
   "cell_type": "code",
   "execution_count": 32,
   "id": "9730016c-61ee-4b4e-b4f3-79fea0c3fdfc",
   "metadata": {},
   "outputs": [],
   "source": [
    "# from keras.applications.vgg16 import VGG16\n",
    "import tensorflow as tf\n",
    "from keras.applications import Xception\n",
    "from keras.applications.inception_v3 import preprocess_input # use keras preprocess to improve accuracy of prediction of InceptionV3 model\n",
    "from keras.applications import imagenet_utils\n",
    "from tensorflow.keras.utils import img_to_array, load_img\n",
    "import numpy as np\n",
    "import cv2"
   ]
  },
  {
   "cell_type": "code",
   "execution_count": 33,
   "id": "65836636-7066-48e5-afeb-de286e1da9c4",
   "metadata": {},
   "outputs": [],
   "source": [
    "# Load image to predict\n",
    "img_path = 'cv2-source-code/images/test13.jpg'\n",
    "img = load_img(img_path)"
   ]
  },
  {
   "cell_type": "code",
   "execution_count": 34,
   "id": "93afc7fa-ee46-47dc-a656-2fa988e99356",
   "metadata": {},
   "outputs": [],
   "source": [
    "# resize the image to 299 x 299 square shape input\n",
    "img = img.resize((299, 299))\n",
    "\n",
    "# convert image to array\n",
    "img_array = img_to_array(img)\n",
    "\n",
    "# convert the image into a 4 dimensional Tensor\n",
    "# convert from (height, width, channels) to (batchsize, height, width, channels))\n",
    "img_array = np.expand_dims(img_array, axis=0)\n",
    "\n",
    "# Preprocess the input image array\n",
    "# img_array = imagenet_utils.preprocess_input(img_array)\n",
    "img_array = preprocess_input(img_array)"
   ]
  },
  {
   "cell_type": "code",
   "execution_count": 35,
   "id": "e8051dd0-d5f7-46d3-a62e-3274f0713e69",
   "metadata": {},
   "outputs": [],
   "source": [
    "# Load the model Keras instantiating\n",
    "pretrained_model=Xception(weights='imagenet')"
   ]
  },
  {
   "cell_type": "code",
   "execution_count": 36,
   "id": "c8549c09-e7f5-4951-a728-479d242e285a",
   "metadata": {},
   "outputs": [
    {
     "name": "stdout",
     "output_type": "stream",
     "text": [
      "1/1 [==============================] - 1s 793ms/step\n"
     ]
    }
   ],
   "source": [
    "# Predict using predict() method\n",
    "prediction = pretrained_model.predict(img_array)\n",
    "\n",
    "# Decode the prediction\n",
    "actual_prediction = imagenet_utils.decode_predictions(prediction)"
   ]
  },
  {
   "cell_type": "code",
   "execution_count": 37,
   "id": "85c3b061-1331-4331-8dbe-5319ab30bd39",
   "metadata": {},
   "outputs": [
    {
     "name": "stdout",
     "output_type": "stream",
     "text": [
      "[[('n02403003', 'ox', 0.9118628), ('n03868242', 'oxcart', 0.040382497), ('n03935335', 'piggy_bank', 0.0023268892), ('n02410509', 'bison', 0.0016895577), ('n03967562', 'plow', 0.0015256838)]]\n"
     ]
    }
   ],
   "source": [
    "print(actual_prediction)"
   ]
  },
  {
   "cell_type": "code",
   "execution_count": 38,
   "id": "fea537a4-ef82-41e6-a913-6e365ec5f796",
   "metadata": {},
   "outputs": [
    {
     "name": "stdout",
     "output_type": "stream",
     "text": [
      "predicted object is ox\n"
     ]
    }
   ],
   "source": [
    "print(f'predicted object is {actual_prediction[0][0][1]}')"
   ]
  },
  {
   "cell_type": "code",
   "execution_count": 39,
   "id": "eb734297-5491-4a00-8a78-dac002e0741f",
   "metadata": {},
   "outputs": [
    {
     "name": "stdout",
     "output_type": "stream",
     "text": [
      "predicted accuracy is 91.18627905845642%\n"
     ]
    }
   ],
   "source": [
    "print(f'predicted accuracy is {actual_prediction[0][0][2]*100}%')"
   ]
  },
  {
   "cell_type": "code",
   "execution_count": 40,
   "id": "49012ef5-dd26-4086-88fe-cfe4aa7f3057",
   "metadata": {},
   "outputs": [],
   "source": [
    "# Display image and the predicted text over it\n",
    "disp_img = cv2.imread(img_path)\n",
    "cv2.putText(disp_img, actual_prediction[0][0][1], (20,20), cv2.FONT_HERSHEY_TRIPLEX, 0.8, (255,0,0))\n",
    "\n",
    "# show the image\n",
    "cv2.imshow(\"predictions\", disp_img)"
   ]
  },
  {
   "cell_type": "code",
   "execution_count": 41,
   "id": "4d3cd310-27d6-4c61-be37-d65357703060",
   "metadata": {},
   "outputs": [],
   "source": [
    "# imagenet 1000 classes list google search "
   ]
  },
  {
   "cell_type": "code",
   "execution_count": null,
   "id": "3a1cd017-d01f-4306-85a4-3a86752bc9f0",
   "metadata": {},
   "outputs": [],
   "source": []
  },
  {
   "cell_type": "code",
   "execution_count": null,
   "id": "060fe635-5424-4511-935a-82297e428ba5",
   "metadata": {},
   "outputs": [],
   "source": []
  }
 ],
 "metadata": {
  "kernelspec": {
   "display_name": "Python 3 (ipykernel)",
   "language": "python",
   "name": "python3"
  },
  "language_info": {
   "codemirror_mode": {
    "name": "ipython",
    "version": 3
   },
   "file_extension": ".py",
   "mimetype": "text/x-python",
   "name": "python",
   "nbconvert_exporter": "python",
   "pygments_lexer": "ipython3",
   "version": "3.8.13"
  }
 },
 "nbformat": 4,
 "nbformat_minor": 5
}
