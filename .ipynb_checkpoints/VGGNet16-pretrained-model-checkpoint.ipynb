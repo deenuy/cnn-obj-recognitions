{
 "cells": [
  {
   "cell_type": "code",
   "execution_count": 2,
   "id": "600a18ff-a116-424a-ba92-4ee0f57c77b3",
   "metadata": {},
   "outputs": [
    {
     "name": "stdout",
     "output_type": "stream",
     "text": [
      "9.1.1\n"
     ]
    }
   ],
   "source": [
    "# !pip install opencv-python --upgrade\n",
    "# !pip install -r requirements.txt\n",
    "import pytesseract\n",
    "import cv2 #opencv-python\n",
    "from PIL import Image #pillow\n",
    "import warnings\n",
    "warnings.filterwarnings('ignore')\n",
    "print(Image.__version__)"
   ]
  },
  {
   "cell_type": "code",
   "execution_count": 11,
   "id": "9730016c-61ee-4b4e-b4f3-79fea0c3fdfc",
   "metadata": {},
   "outputs": [],
   "source": [
    "# from keras.applications.vgg16 import VGG16\n",
    "import tensorflow as tf\n",
    "from keras.applications import VGG16\n",
    "from keras.applications import imagenet_utils\n",
    "from tensorflow.keras.utils import img_to_array, load_img\n",
    "import numpy as np\n",
    "import cv2"
   ]
  },
  {
   "cell_type": "code",
   "execution_count": 17,
   "id": "65836636-7066-48e5-afeb-de286e1da9c4",
   "metadata": {},
   "outputs": [],
   "source": [
    "# Load image to predict\n",
    "img_path = 'cv2-source-code/images/test6.jpg'\n",
    "img = load_img(img_path)"
   ]
  },
  {
   "cell_type": "code",
   "execution_count": 18,
   "id": "93afc7fa-ee46-47dc-a656-2fa988e99356",
   "metadata": {},
   "outputs": [],
   "source": [
    "# resize the image to 224x224 square shape input\n",
    "img = img.resize((224,224))\n",
    "\n",
    "# convert image to array\n",
    "img_array = img_to_array(img)\n",
    "\n",
    "# convert the image into a 4 dimensional Tensor\n",
    "# convert from (height, width, channels) to (batchsize, height, width, channels))\n",
    "img_array = np.expand_dims(img_array, axis=0)\n",
    "\n",
    "# Preprocess the input image array\n",
    "img_array = imagenet_utils.preprocess_input(img_array)"
   ]
  },
  {
   "cell_type": "code",
   "execution_count": 14,
   "id": "e8051dd0-d5f7-46d3-a62e-3274f0713e69",
   "metadata": {},
   "outputs": [
    {
     "name": "stderr",
     "output_type": "stream",
     "text": [
      "2022-05-24 11:11:33.649078: I tensorflow/core/platform/cpu_feature_guard.cc:193] This TensorFlow binary is optimized with oneAPI Deep Neural Network Library (oneDNN) to use the following CPU instructions in performance-critical operations:  AVX2 FMA\n",
      "To enable them in other operations, rebuild TensorFlow with the appropriate compiler flags.\n"
     ]
    },
    {
     "name": "stdout",
     "output_type": "stream",
     "text": [
      "Downloading data from https://storage.googleapis.com/tensorflow/keras-applications/vgg16/vgg16_weights_tf_dim_ordering_tf_kernels.h5\n",
      "553467096/553467096 [==============================] - 9s 0us/step\n"
     ]
    }
   ],
   "source": [
    "# Load the model Keras instantiating\n",
    "pretrained_model=VGG16(weights='imagenet')"
   ]
  },
  {
   "cell_type": "code",
   "execution_count": 19,
   "id": "c8549c09-e7f5-4951-a728-479d242e285a",
   "metadata": {},
   "outputs": [
    {
     "name": "stdout",
     "output_type": "stream",
     "text": [
      "1/1 [==============================] - 0s 251ms/step\n"
     ]
    }
   ],
   "source": [
    "# Predict using predict() method\n",
    "prediction = pretrained_model.predict(img_array)\n",
    "\n",
    "# Decode the prediction\n",
    "actual_prediction = imagenet_utils.decode_predictions(prediction)"
   ]
  },
  {
   "cell_type": "code",
   "execution_count": 20,
   "id": "85c3b061-1331-4331-8dbe-5319ab30bd39",
   "metadata": {},
   "outputs": [
    {
     "name": "stdout",
     "output_type": "stream",
     "text": [
      "[[('n01644373', 'tree_frog', 0.9845653), ('n01644900', 'tailed_frog', 0.015009549), ('n01641577', 'bullfrog', 0.00022886021), ('n01693334', 'green_lizard', 0.00010454717), ('n01682714', 'American_chameleon', 5.6164252e-05)]]\n"
     ]
    }
   ],
   "source": [
    "print(actual_prediction)"
   ]
  },
  {
   "cell_type": "code",
   "execution_count": 22,
   "id": "fea537a4-ef82-41e6-a913-6e365ec5f796",
   "metadata": {},
   "outputs": [
    {
     "name": "stdout",
     "output_type": "stream",
     "text": [
      "tree_frog\n"
     ]
    }
   ],
   "source": [
    "print(f'predicted object is {actual_prediction[0][0][1]}')"
   ]
  },
  {
   "cell_type": "code",
   "execution_count": 23,
   "id": "eb734297-5491-4a00-8a78-dac002e0741f",
   "metadata": {},
   "outputs": [
    {
     "name": "stdout",
     "output_type": "stream",
     "text": [
      "predicted accuracy is 98.45653176307678%\n"
     ]
    }
   ],
   "source": [
    "print(f'predicted accuracy is {actual_prediction[0][0][2]*100}%')"
   ]
  },
  {
   "cell_type": "code",
   "execution_count": 25,
   "id": "49012ef5-dd26-4086-88fe-cfe4aa7f3057",
   "metadata": {},
   "outputs": [],
   "source": [
    "# Display image and the predicted text over it\n",
    "disp_img = cv2.imread(img_path)\n",
    "cv2.putText(disp_img, actual_prediction[0][0][1], (20,20), cv2.FONT_HERSHEY_TRIPLEX, 0.8, (255,0,0))\n",
    "\n",
    "# show the image\n",
    "cv2.imshow(\"predictions\", disp_img)"
   ]
  },
  {
   "cell_type": "code",
   "execution_count": null,
   "id": "4d3cd310-27d6-4c61-be37-d65357703060",
   "metadata": {},
   "outputs": [],
   "source": []
  }
 ],
 "metadata": {
  "kernelspec": {
   "display_name": "Python 3 (ipykernel)",
   "language": "python",
   "name": "python3"
  },
  "language_info": {
   "codemirror_mode": {
    "name": "ipython",
    "version": 3
   },
   "file_extension": ".py",
   "mimetype": "text/x-python",
   "name": "python",
   "nbconvert_exporter": "python",
   "pygments_lexer": "ipython3",
   "version": "3.8.13"
  }
 },
 "nbformat": 4,
 "nbformat_minor": 5
}
